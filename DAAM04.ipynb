{
  "nbformat": 4,
  "nbformat_minor": 0,
  "metadata": {
    "colab": {
      "provenance": []
    },
    "kernelspec": {
      "name": "python3",
      "display_name": "Python 3"
    },
    "language_info": {
      "name": "python"
    }
  },
  "cells": [
    {
      "cell_type": "code",
      "execution_count": null,
      "metadata": {
        "id": "uUeC8LlBohGc"
      },
      "outputs": [],
      "source": [
        "#Algoritma sorting dan seacrhing\n",
        "#Nama : Muhammad Iqbal Fattah(2021071002)"
      ]
    },
    {
      "cell_type": "code",
      "source": [
        "#Latihan 1 (SWAP)\n",
        "\n",
        "var1 = 1\n",
        "var2 = 2\n",
        "var3 = 4\n",
        "var1, var2, var3 = var2, var3, var1\n",
        "print(var1, var2, var3)\n"
      ],
      "metadata": {
        "colab": {
          "base_uri": "https://localhost:8080/"
        },
        "id": "Wn6Bp_L8pZHZ",
        "outputId": "ef9051ae-300e-4cb1-a414-c68fadd0b321"
      },
      "execution_count": null,
      "outputs": [
        {
          "output_type": "stream",
          "name": "stdout",
          "text": [
            "2 4 1\n"
          ]
        }
      ]
    },
    {
      "cell_type": "code",
      "source": [
        "#Latihan 2 (Bubble Sort)\n",
        "\n",
        "list = [25,21,22,24,23,27,26]\n",
        "lastElementIndex = len(list)-1\n",
        "print(0,list)\n",
        "for index in range(lastElementIndex):\n",
        "  if list[index]> list[index+1]:\n",
        "      list[index], list [index+1]=list[index+1],list[index]\n",
        "  print(index+1,list)\n"
      ],
      "metadata": {
        "colab": {
          "base_uri": "https://localhost:8080/"
        },
        "id": "mX3PJ9FGqIXA",
        "outputId": "1ac307e1-f081-4cd4-8f1f-8f2834e8efab"
      },
      "execution_count": null,
      "outputs": [
        {
          "output_type": "stream",
          "name": "stdout",
          "text": [
            "0 [25, 21, 22, 24, 23, 27, 26]\n",
            "1 [21, 25, 22, 24, 23, 27, 26]\n",
            "2 [21, 22, 25, 24, 23, 27, 26]\n",
            "3 [21, 22, 24, 25, 23, 27, 26]\n",
            "4 [21, 22, 24, 23, 25, 27, 26]\n",
            "5 [21, 22, 24, 23, 25, 27, 26]\n",
            "6 [21, 22, 24, 23, 25, 26, 27]\n"
          ]
        }
      ]
    },
    {
      "cell_type": "code",
      "source": [
        "list\n",
        "#Exchange the elements to arrange in order"
      ],
      "metadata": {
        "colab": {
          "base_uri": "https://localhost:8080/"
        },
        "id": "6ZxKaOtgrtxf",
        "outputId": "0e656980-00f3-4117-bfd8-41ed7a2c4ded"
      },
      "execution_count": null,
      "outputs": [
        {
          "output_type": "execute_result",
          "data": {
            "text/plain": [
              "[21, 22, 24, 23, 25, 26, 27]"
            ]
          },
          "metadata": {},
          "execution_count": 7
        }
      ]
    },
    {
      "cell_type": "code",
      "source": [
        "def BubbleSort(list):\n",
        "  lastElementIndex = len(list)-1\n",
        "  for passNo in range (lastElementIndex,0,-1):\n",
        "    for index in range(passNo):\n",
        "      if list[index]> list[index+1]:\n",
        "        list[index], list[index+1]= list[index+1],list [index]"
      ],
      "metadata": {
        "id": "E0K_fhmLriYJ"
      },
      "execution_count": null,
      "outputs": []
    },
    {
      "cell_type": "code",
      "source": [
        "list = [25,21,22,24,23,27,26]"
      ],
      "metadata": {
        "id": "DTMwor8itYzV"
      },
      "execution_count": null,
      "outputs": []
    },
    {
      "cell_type": "code",
      "source": [
        "BubbleSort(list)"
      ],
      "metadata": {
        "id": "6VpGLY3fteOJ"
      },
      "execution_count": null,
      "outputs": []
    },
    {
      "cell_type": "code",
      "source": [
        "list"
      ],
      "metadata": {
        "colab": {
          "base_uri": "https://localhost:8080/"
        },
        "id": "CJgA92mVtiun",
        "outputId": "bd21fd5b-f17e-4097-abda-699041ce48c0"
      },
      "execution_count": null,
      "outputs": [
        {
          "output_type": "execute_result",
          "data": {
            "text/plain": [
              "[21, 22, 23, 24, 25, 26, 27]"
            ]
          },
          "metadata": {},
          "execution_count": 13
        }
      ]
    },
    {
      "cell_type": "code",
      "source": [
        "#Latihan 2 (Bubble Sort)\n",
        "#[100,20,60,90,40,30,10]"
      ],
      "metadata": {
        "id": "VzTLMoE4toqQ"
      },
      "execution_count": null,
      "outputs": []
    },
    {
      "cell_type": "code",
      "source": [
        "listt = [100,20,60,90,40,30,10]\n",
        "lastElementIndx = len(list)-1\n",
        "print(0,listt)\n",
        "for indx in range(lastElementIndex):\n",
        "  if listt [indx]> listt[indx+1]:\n",
        "      listt [indx], listt [indx+1]= listt[indx+1],listt[indx]\n",
        "  print(indx+1,listt)"
      ],
      "metadata": {
        "colab": {
          "base_uri": "https://localhost:8080/"
        },
        "id": "RAs1EyfLt77d",
        "outputId": "82c28ff9-b987-4fb5-e983-01449a1fe41b"
      },
      "execution_count": null,
      "outputs": [
        {
          "output_type": "stream",
          "name": "stdout",
          "text": [
            "0 [100, 20, 60, 90, 40, 30, 10]\n",
            "1 [20, 100, 60, 90, 40, 30, 10]\n",
            "2 [20, 60, 100, 90, 40, 30, 10]\n",
            "3 [20, 60, 90, 100, 40, 30, 10]\n",
            "4 [20, 60, 90, 40, 100, 30, 10]\n",
            "5 [20, 60, 90, 40, 30, 100, 10]\n",
            "6 [20, 60, 90, 40, 30, 10, 100]\n"
          ]
        }
      ]
    },
    {
      "cell_type": "code",
      "source": [
        "#Latihan 3 (Insertion Sort)\n",
        "def insertionSort(list):\n",
        "  for i in range(1, len(list)):\n",
        "    j = i-1\n",
        "    next = list[i]\n",
        "  # compare the current element with next one\n",
        "    while (list[j] > next) and ( j >= 0):\n",
        "      list [j+1] = list[j]\n",
        "      j=j-1\n",
        "      list [j+1] = next\n",
        "    return list\n",
        "\n"
      ],
      "metadata": {
        "id": "a5YT_yROu7BF"
      },
      "execution_count": null,
      "outputs": []
    },
    {
      "cell_type": "code",
      "source": [
        "list = [35,31,32,34,33,37,36]"
      ],
      "metadata": {
        "id": "u85ArGBSxMLc"
      },
      "execution_count": null,
      "outputs": []
    },
    {
      "cell_type": "code",
      "source": [
        "list"
      ],
      "metadata": {
        "colab": {
          "base_uri": "https://localhost:8080/"
        },
        "id": "m19yEPvSxatW",
        "outputId": "5d26be69-c9cd-43c4-cc73-0d0835a970cc"
      },
      "execution_count": null,
      "outputs": [
        {
          "output_type": "execute_result",
          "data": {
            "text/plain": [
              "[35, 31, 32, 34, 33, 37, 36]"
            ]
          },
          "metadata": {},
          "execution_count": 19
        }
      ]
    },
    {
      "cell_type": "code",
      "source": [
        "insertionSort(list)"
      ],
      "metadata": {
        "colab": {
          "base_uri": "https://localhost:8080/"
        },
        "id": "TWz-0K6pxbmZ",
        "outputId": "78b0dc42-29af-471f-ed52-70ec9f1b4a26"
      },
      "execution_count": null,
      "outputs": [
        {
          "output_type": "execute_result",
          "data": {
            "text/plain": [
              "[31, 35, 32, 34, 33, 37, 36]"
            ]
          },
          "metadata": {},
          "execution_count": 20
        }
      ]
    },
    {
      "cell_type": "code",
      "source": [
        "list"
      ],
      "metadata": {
        "colab": {
          "base_uri": "https://localhost:8080/"
        },
        "id": "owUvHo-1xhLQ",
        "outputId": "01db203a-0f29-42ac-f7e6-a09ffb927d53"
      },
      "execution_count": null,
      "outputs": [
        {
          "output_type": "execute_result",
          "data": {
            "text/plain": [
              "[31, 35, 32, 34, 33, 37, 36]"
            ]
          },
          "metadata": {},
          "execution_count": 21
        }
      ]
    },
    {
      "cell_type": "code",
      "source": [
        "#Latihan 3 (insertion Sort)\n",
        "#[89,12,57,16,25,11,75]\n",
        "hai = [89,12,57,16,25,11,75]\n",
        "def insertionSort(hai):\n",
        "  for i in range(1, len(hai)):\n",
        "    j = i-1\n",
        "    next = hai[i]\n",
        "  # compare the current element with next one\n",
        "    while (hai[j] > next) and ( j >= 0):\n",
        "      hai [j+1] = hai[j]\n",
        "      j=j-1\n",
        "      hai [j+1] = next\n",
        "    return hai"
      ],
      "metadata": {
        "id": "QhYaT2UFxtP4"
      },
      "execution_count": null,
      "outputs": []
    },
    {
      "cell_type": "code",
      "source": [
        "hai"
      ],
      "metadata": {
        "colab": {
          "base_uri": "https://localhost:8080/"
        },
        "id": "n7cU4Gi50qFx",
        "outputId": "2ffaaa78-6b54-4642-e7e6-4a13e9ac4b8e"
      },
      "execution_count": null,
      "outputs": [
        {
          "output_type": "execute_result",
          "data": {
            "text/plain": [
              "[89, 12, 57, 16, 25, 11, 75]"
            ]
          },
          "metadata": {},
          "execution_count": 23
        }
      ]
    },
    {
      "cell_type": "code",
      "source": [
        "insertionSort(hai)"
      ],
      "metadata": {
        "colab": {
          "base_uri": "https://localhost:8080/"
        },
        "id": "8JcgLASj0q6x",
        "outputId": "d8ab077a-c3ce-4df7-dd12-504b10e78954"
      },
      "execution_count": null,
      "outputs": [
        {
          "output_type": "execute_result",
          "data": {
            "text/plain": [
              "[12, 89, 57, 16, 25, 11, 75]"
            ]
          },
          "metadata": {},
          "execution_count": 24
        }
      ]
    },
    {
      "cell_type": "code",
      "source": [
        "#Latihan 4 (selection SORT)\n",
        "def SelectionSort(list):\n",
        "  for fill_slot in range(len(list) -1,0,-1):\n",
        "    max_index = 0\n",
        "    for location in range(1, fill_slot+1):\n",
        "      if list[location] > list [max_index]:\n",
        "        max_index = location\n",
        "        list [fill_slot], list[max_index] = list[max_index]\n",
        "        return list"
      ],
      "metadata": {
        "id": "O9Q2zObP014n"
      },
      "execution_count": null,
      "outputs": []
    },
    {
      "cell_type": "code",
      "source": [
        "list = [70,15,25,19,34,44]\n",
        "SelectionSort(list)\n",
        "print(list)"
      ],
      "metadata": {
        "colab": {
          "base_uri": "https://localhost:8080/"
        },
        "id": "GVSmIj762mJo",
        "outputId": "bbf125f4-a336-46af-951f-1062ec94554d"
      },
      "execution_count": null,
      "outputs": [
        {
          "output_type": "stream",
          "name": "stdout",
          "text": [
            "[70, 15, 25, 19, 34, 44]\n"
          ]
        }
      ]
    },
    {
      "cell_type": "code",
      "source": [
        "list"
      ],
      "metadata": {
        "colab": {
          "base_uri": "https://localhost:8080/"
        },
        "id": "IN-tpOH93eFN",
        "outputId": "68c969b5-475e-4335-911f-40ef3e84e32b"
      },
      "execution_count": null,
      "outputs": [
        {
          "output_type": "execute_result",
          "data": {
            "text/plain": [
              "[70, 15, 25, 19, 34, 44]"
            ]
          },
          "metadata": {},
          "execution_count": 28
        }
      ]
    },
    {
      "cell_type": "code",
      "source": [
        "#Latihan 4 (selection SORT)\n",
        "[89,12,57,16,25]\n",
        "list = [89,12,57,16,25]\n",
        "def SelectionSort(list):\n",
        "  for fill_slot in range(len(list) -1,0,-1):\n",
        "    max_index = 0\n",
        "    for location in range(1, fill_slot+1):\n",
        "      if list[location] > list [max_index]:\n",
        "        max_index = location\n",
        "        list [fill_slot], list[max_index] = list[max_index]\n",
        "        return list\n",
        "\n",
        "SelectionSort(list)\n",
        "print(list)"
      ],
      "metadata": {
        "colab": {
          "base_uri": "https://localhost:8080/"
        },
        "id": "KPkuGkkf3iO1",
        "outputId": "68baf545-a6dc-4cbb-ffff-fa1e9956b145"
      },
      "execution_count": null,
      "outputs": [
        {
          "output_type": "stream",
          "name": "stdout",
          "text": [
            "[89, 12, 57, 16, 25]\n"
          ]
        }
      ]
    },
    {
      "cell_type": "code",
      "source": [
        "#Latihan 5 (Linear Search)\n",
        "def LinearSearch(list,item):\n",
        "  index = 0\n",
        "  found = False\n",
        "# kecocokan nilai antar element\n",
        "while index < len(list) and found is False :\n",
        "   if list [index] == item :\n",
        "     found = True\n",
        "else :\n",
        "       index = index + 1 \n",
        "       return found"
      ],
      "metadata": {
        "id": "B73Fpacn4MQm"
      },
      "execution_count": null,
      "outputs": []
    },
    {
      "cell_type": "code",
      "source": [
        "list = [12,33,11,99,22,55,90]\n",
        "print(LinearSearch(list,12))\n",
        "print(LinearSearch(list,91))"
      ],
      "metadata": {
        "id": "l5FSFuIq-Nfc"
      },
      "execution_count": null,
      "outputs": []
    },
    {
      "cell_type": "code",
      "source": [
        "#Latihan 6 (Linear Search)\n",
        "lis = [\"y\",\"u\",\"i\",\"w\",\"o\",\"a\",\"q\",\"u\",\"j\",\"p\"]\n",
        "def LinearSearch (lis, item):\n",
        "  index = 0\n",
        "  temu = False\n",
        "while index < len(lis) and temu is False:\n",
        "  if lis [index] == item :\n",
        "    temu = True\n",
        "else :\n",
        "  index = index + 1\n",
        "  return temu"
      ],
      "metadata": {
        "id": "AcTSbNg_-dV8"
      },
      "execution_count": null,
      "outputs": []
    },
    {
      "cell_type": "code",
      "source": [
        "#Latihan 7 (Binary Seach)\n",
        "def BinarySearch(list, item):\n",
        "  first = 0\n",
        "  last = len(list)-1\n",
        "  found = False\n",
        "\n",
        "  while first <= last and not found:\n",
        "    midpoint = (first + last)//2\n",
        "    if list [midpoint] == item:\n",
        "      found = True\n",
        "    else:\n",
        "      if item < list[midpoint]:\n",
        "        last = midpoint-1\n",
        "        else:\n",
        "          first = midpoint+1\n",
        "          return found\n",
        "  "
      ],
      "metadata": {
        "id": "mlPOjRyks0u9"
      },
      "execution_count": null,
      "outputs": []
    },
    {
      "cell_type": "code",
      "source": [
        "from typing import BinaryIO\n",
        "list = [12,33,11,99,22,55,90]\n",
        "sorted_list = BubbleSort(list)\n",
        "print(BinarySearch(list,12))\n",
        "print(BinarySearch(list,91))"
      ],
      "metadata": {
        "id": "xHDqt6ThuovH"
      },
      "execution_count": null,
      "outputs": []
    },
    {
      "cell_type": "code",
      "source": [
        "#Latihan 7\n",
        "def BinarySearch(list, item):\n",
        "  first = 0\n",
        "  last = len(list)-1\n",
        "  found = False\n",
        "\n",
        "  while first <= last and not found:\n",
        "    midpoint = (first + last)//2\n",
        "    if list [midpoint] == item:\n",
        "      found = True\n",
        "    else:\n",
        "      if item < list[midpoint]:\n",
        "        last = midpoint-1\n",
        "        else:\n",
        "          first = midpoint+1\n",
        "          return found\n"
      ],
      "metadata": {
        "id": "QhR8pXy0u_fU"
      },
      "execution_count": null,
      "outputs": []
    },
    {
      "cell_type": "code",
      "source": [
        "from re import A\n",
        "from typing import BinaryIO\n",
        "lis = [\"y\",\"u\",\"i\",\"w\",\"o\",\"a\",\"q\",\"u\",\"j\",\"p\"]\n",
        "sorted_list = BubbleSort(list)\n",
        "print(BinarySearch(list, a))"
      ],
      "metadata": {
        "id": "yvPhpCE_vWoF"
      },
      "execution_count": null,
      "outputs": []
    },
    {
      "cell_type": "code",
      "source": [
        "def IntPolsearch(list,x):\n",
        "  idx0 = 0\n",
        "  idxn = (len(list)-1)\n",
        "  found = False\n",
        "  while idx0 <= idxn and x >= list [idx0] and x <= list[idxn]:\n",
        "    mid = idx0+ int(((float(idxn-idx0)/(list [idxn] - list [idx0]) * (x - list[idx0]))))\n",
        "    if list[mid] == x:\n",
        "      found = True\n",
        "      return found\n",
        "    if last[mid] < x:\n",
        "      idx0 = mid+1\n",
        "      return found"
      ],
      "metadata": {
        "id": "7YMCIQ7cvk5L"
      },
      "execution_count": null,
      "outputs": []
    },
    {
      "cell_type": "code",
      "source": [
        "list = [12,33,11,99,22,55,90]\n",
        "sorted_list = BubbleSort(list)\n",
        "print(IntPolsearch(list,12))\n",
        "print(IntPolsearch(list,91))"
      ],
      "metadata": {
        "id": "Yz1_VHg8x5ly"
      },
      "execution_count": null,
      "outputs": []
    }
  ]
}